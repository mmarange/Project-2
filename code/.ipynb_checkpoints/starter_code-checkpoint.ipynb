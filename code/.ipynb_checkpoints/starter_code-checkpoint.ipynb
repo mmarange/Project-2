{
 "cells": [
  {
   "cell_type": "code",
   "execution_count": 1,
   "metadata": {},
   "outputs": [],
   "source": [
    "import pandas"
   ]
  },
  {
   "cell_type": "code",
   "execution_count": 4,
   "metadata": {},
   "outputs": [
    {
     "data": {
      "text/plain": [
       "'https://apps.bea.gov/api/data?&UserID=3549AFAD-7B22-4E88-B147-096F20C8D7B8-Key&method=GETDATASETLIST&'"
      ]
     },
     "execution_count": 4,
     "metadata": {},
     "output_type": "execute_result"
    }
   ],
   "source": [
    "API_key = '3549AFAD-7B22-4E88-B147-096F20C8D7B8'\n",
    "\n",
    "base_url = f'https://apps.bea.gov/api/data?&UserID={API_key}-Key&method=GETDATASETLIST&'\n",
    "base_url"
   ]
  },
  {
   "cell_type": "code",
   "execution_count": 9,
   "metadata": {},
   "outputs": [
    {
     "data": {
      "text/plain": [
       "'http://apps.bea.gov/api/data?&amp&UserID=3549AFAD-7B22-4E88-B147-096F20C8D7B8-Key&amp&method=GETDATASETLIST&amp&ResultFormat=JSON'"
      ]
     },
     "execution_count": 9,
     "metadata": {},
     "output_type": "execute_result"
    }
   ],
   "source": [
    "base_url = f'http://apps.bea.gov/api/data?&amp&UserID={API_key}-Key&amp&method=GETDATASETLIST&amp&ResultFormat=JSON'\n",
    "base_url  "
   ]
  },
  {
   "cell_type": "code",
   "execution_count": 11,
   "metadata": {},
   "outputs": [
    {
     "data": {
      "text/plain": [
       "'https://apps.bea.gov/api/data?&UserID=3549AFAD-7B22-4E88-B147-096F20C8D7B8&method=getparameterlist&datasetname=APIDatasetMetaData&ResultFormat=JSON'"
      ]
     },
     "execution_count": 11,
     "metadata": {},
     "output_type": "execute_result"
    }
   ],
   "source": [
    "dataset = 'APIDatasetMetaData'\n",
    "base = f'https://apps.bea.gov/api/data?&UserID={API_key}&method=getparameterlist&datasetname={dataset}&ResultFormat=JSON'\n",
    "base"
   ]
  },
  {
   "cell_type": "code",
   "execution_count": null,
   "metadata": {},
   "outputs": [],
   "source": [
    "base = f'https://apps.bea.gov/api/data?&UserID={API_key}&method=GetParameterValues&datasetname=Regional&ParameterName=TableName&ResultFormat=JSON'"
   ]
  }
 ],
 "metadata": {
  "kernelspec": {
   "display_name": "Python 3",
   "language": "python",
   "name": "python3"
  },
  "language_info": {
   "codemirror_mode": {
    "name": "ipython",
    "version": 3
   },
   "file_extension": ".py",
   "mimetype": "text/x-python",
   "name": "python",
   "nbconvert_exporter": "python",
   "pygments_lexer": "ipython3",
   "version": "3.8.3"
  }
 },
 "nbformat": 4,
 "nbformat_minor": 4
}

{
 "cells": [
  {
   "cell_type": "code",
   "execution_count": 1,
   "metadata": {},
   "outputs": [],
   "source": [
    "import pandas"
   ]
  },
  {
   "cell_type": "code",
   "execution_count": 14,
   "metadata": {},
   "outputs": [],
   "source": [
    "censusAPI = 'b9aa0e5c6847a08760d83528b2bc702a364012cf'\n",
    "cbase = f'http://api.census.gov/data/2010/sf1?key={censusAPI}&get=P0010001,NAME&for=place:*'"
   ]
  },
  {
   "cell_type": "code",
   "execution_count": 4,
   "metadata": {},
   "outputs": [
    {
     "data": {
      "text/plain": [
       "'https://apps.bea.gov/api/data?&UserID=3549AFAD-7B22-4E88-B147-096F20C8D7B8-Key&method=GETDATASETLIST&'"
      ]
     },
     "execution_count": 4,
     "metadata": {},
     "output_type": "execute_result"
    }
   ],
   "source": [
    "API_key = '3549AFAD-7B22-4E88-B147-096F20C8D7B8'\n",
    "\n",
    "base_url = f'https://apps.bea.gov/api/data?&UserID={API_key}-Key&method=GETDATASETLIST&'\n",
    "base_url"
   ]
  },
  {
   "cell_type": "code",
   "execution_count": 9,
   "metadata": {},
   "outputs": [
    {
     "data": {
      "text/plain": [
       "'http://apps.bea.gov/api/data?&amp&UserID=3549AFAD-7B22-4E88-B147-096F20C8D7B8-Key&amp&method=GETDATASETLIST&amp&ResultFormat=JSON'"
      ]
     },
     "execution_count": 9,
     "metadata": {},
     "output_type": "execute_result"
    }
   ],
   "source": [
    "base_url = f'http://apps.bea.gov/api/data?&amp&UserID={API_key}-Key&amp&method=GETDATASETLIST&amp&ResultFormat=JSON'\n",
    "base_url  "
   ]
  },
  {
   "cell_type": "code",
   "execution_count": 11,
   "metadata": {},
   "outputs": [
    {
     "data": {
      "text/plain": [
       "'https://apps.bea.gov/api/data?&UserID=3549AFAD-7B22-4E88-B147-096F20C8D7B8&method=getparameterlist&datasetname=APIDatasetMetaData&ResultFormat=JSON'"
      ]
     },
     "execution_count": 11,
     "metadata": {},
     "output_type": "execute_result"
    }
   ],
   "source": [
    "dataset = 'APIDatasetMetaData'\n",
    "base = f'https://apps.bea.gov/api/data?&UserID={API_key}&method=getparameterlist&datasetname={dataset}&ResultFormat=JSON'\n",
    "base"
   ]
  },
  {
   "cell_type": "code",
   "execution_count": 12,
   "metadata": {},
   "outputs": [
    {
     "data": {
      "text/plain": [
       "'https://apps.bea.gov/api/data?&UserID=3549AFAD-7B22-4E88-B147-096F20C8D7B8&method=GetParameterValues&datasetname=Regional&ParameterName=TableName&ResultFormat=JSON'"
      ]
     },
     "execution_count": 12,
     "metadata": {},
     "output_type": "execute_result"
    }
   ],
   "source": [
    "base = f'https://apps.bea.gov/api/data?&UserID={API_key}&method=GetParameterValues&datasetname=Regional&ParameterName=TableName&ResultFormat=JSON'\n",
    "base\n"
   ]
  },
  {
   "cell_type": "code",
   "execution_count": 15,
   "metadata": {},
   "outputs": [
    {
     "data": {
      "text/plain": [
       "' api.census.gov/data/2019/acs/acs5/cprofile?get=group(CP05)&for=us:1&key=b9aa0e5c6847a08760d83528b2bc702a364012cf'"
      ]
     },
     "execution_count": 15,
     "metadata": {},
     "output_type": "execute_result"
    }
   ],
   "source": [
    "cbase = f' api.census.gov/data/2019/acs/acs5/cprofile?get=group(CP05)&for=us:1&key={censusAPI}'\n",
    "cbase"
   ]
  },
  {
   "cell_type": "code",
   "execution_count": null,
   "metadata": {},
   "outputs": [],
   "source": [
    "base = api.census.gov/data/2019/acs/acs5/cprofile?get=group(CP05)&for=us:1&key=YOUR_KEY_GOES_HERE"
   ]
  }
 ],
 "metadata": {
  "kernelspec": {
   "display_name": "Python 3",
   "language": "python",
   "name": "python3"
  },
  "language_info": {
   "codemirror_mode": {
    "name": "ipython",
    "version": 3
   },
   "file_extension": ".py",
   "mimetype": "text/x-python",
   "name": "python",
   "nbconvert_exporter": "python",
   "pygments_lexer": "ipython3",
   "version": "3.8.3"
  }
 },
 "nbformat": 4,
 "nbformat_minor": 4
}
